{
 "cells": [
  {
   "cell_type": "markdown",
   "metadata": {},
   "source": [
    "# K-Means Step By Step\n",
    "This notebook attempts to explain how the K-Means model works, step by step. This is only a simplification, but it helps understanding what is going on and how the model finds clusters of similar points, that is, points close to each other."
   ]
  },
  {
   "cell_type": "code",
   "execution_count": 9,
   "metadata": {},
   "outputs": [],
   "source": [
    "import numpy as np\n",
    "import matplotlib.pyplot as plt\n",
    "import scipy as sp\n",
    "from sklearn.metrics.pairwise import euclidean_distances"
   ]
  },
  {
   "cell_type": "markdown",
   "metadata": {},
   "source": [
    "## Define a set of data points"
   ]
  },
  {
   "cell_type": "code",
   "execution_count": 1,
   "metadata": {},
   "outputs": [],
   "source": [
    "a = (10, 2)\n",
    "b = (1, 9)\n",
    "c = (3, 2)\n",
    "d = (10, 3)\n",
    "e = (12, 4)\n",
    "f = (3, 14)"
   ]
  },
  {
   "cell_type": "markdown",
   "metadata": {},
   "source": [
    "We set the amount of clusters we want to find to two. First, we randomly put a, b and c in cluster 1 and d, e, and f in cluster 2. We calculate the clusters means and draw them and the points unto a plane."
   ]
  },
  {
   "cell_type": "code",
   "execution_count": 16,
   "metadata": {},
   "outputs": [
    {
     "name": "stdout",
     "output_type": "stream",
     "text": [
      "Mean of cluster 1:  (4.666666666666667, 4.333333333333333)\n",
      "Mean of cluster 2:  (8.333333333333334, 7.0)\n"
     ]
    }
   ],
   "source": [
    "mean_of_one = (((a[0] + b[0] + c[0])/3), ((a[1] + b[1] + c[1])/3))\n",
    "mean_of_two = (((d[0] + e[0] + f[0])/3), ((d[1] + e[1] + f[1])/3))\n",
    "\n",
    "print(\"Mean of cluster 1: \", mean_of_one)\n",
    "print(\"Mean of cluster 2: \", mean_of_two)"
   ]
  },
  {
   "cell_type": "code",
   "execution_count": 18,
   "metadata": {},
   "outputs": [
    {
     "data": {
      "image/png": "[encoded data removed]",
      "text/plain": [
       "<Figure size 432x288 with 1 Axes>"
      ]
     },
     "metadata": {},
     "output_type": "display_data"
    }
   ],
   "source": [
    "x, y = np.array([a, b, c, d, e, f]).T\n",
    "plt.axis([0, 15, 0, 15])\n",
    "plt.scatter(x, y)\n",
    "z, w = np.array([mean_of_one, mean_of_two]).T\n",
    "#plt.scatter(z, w)\n",
    "plt.show()"
   ]
  },
  {
   "cell_type": "markdown",
   "metadata": {},
   "source": [
    "### Count the data points distance from the means using euclidean distance"
   ]
  },
  {
   "cell_type": "code",
   "execution_count": 19,
   "metadata": {},
   "outputs": [
    {
     "name": "stdout",
     "output_type": "stream",
     "text": [
      "Distance from a to first cluster mean: 5.82141639885766\n",
      "Distance from a to second cluster mean: 5.270462766947299\n",
      "Distance from b to first cluster mean: 5.934831271588286\n",
      "Distance from b to second cluster mean: 7.60116950066092\n",
      "Distance from c to first cluster mean: 2.8674417556808756\n",
      "Distance from c to second cluster mean: 7.31057073315377\n",
      "----------------------------------\n",
      "Distance from d to first cluster mean: 5.497474167490214\n",
      "Distance from d to second cluster mean: 4.333333333333333\n",
      "Distance from e to first cluster mean: 7.340905181848413\n",
      "Distance from e to second cluster mean: 4.737556801183965\n",
      "Distance from f to first cluster mean: 9.809292646374775\n",
      "Distance from f to second cluster mean: 8.80025252162939\n"
     ]
    }
   ],
   "source": [
    "print('Distance from a to first cluster mean: {}'.format(sp.spatial.distance.euclidean(mean_of_one, a)))\n",
    "print('Distance from a to second cluster mean: {}'.format(sp.spatial.distance.euclidean(mean_of_two, a)))\n",
    "\n",
    "print('Distance from b to first cluster mean: {}'.format(sp.spatial.distance.euclidean(mean_of_one, b)))\n",
    "print('Distance from b to second cluster mean: {}'.format(sp.spatial.distance.euclidean(mean_of_two, b)))\n",
    "\n",
    "print('Distance from c to first cluster mean: {}'.format(sp.spatial.distance.euclidean(mean_of_one, c)))\n",
    "print('Distance from c to second cluster mean: {}'.format(sp.spatial.distance.euclidean(mean_of_two, c)))\n",
    "\n",
    "print('----------------------------------')\n",
    "\n",
    "print('Distance from d to first cluster mean: {}'.format(sp.spatial.distance.euclidean(mean_of_one, d)))\n",
    "print('Distance from d to second cluster mean: {}'.format(sp.spatial.distance.euclidean(mean_of_two, d)))\n",
    "\n",
    "print('Distance from e to first cluster mean: {}'.format(sp.spatial.distance.euclidean(mean_of_one, e)))\n",
    "print('Distance from e to second cluster mean: {}'.format(sp.spatial.distance.euclidean(mean_of_two, e)))\n",
    "\n",
    "print('Distance from f to first cluster mean: {}'.format(sp.spatial.distance.euclidean(mean_of_one, f)))\n",
    "print('Distance from f to second cluster mean: {}'.format(sp.spatial.distance.euclidean(mean_of_two, f)))"
   ]
  },
  {
   "cell_type": "markdown",
   "metadata": {},
   "source": [
    "Based on these distances, the new clusters are b, c and a, d, e, f. Now we recalculate the means and again calculate the distances to the mean points."
   ]
  },
  {
   "cell_type": "code",
   "execution_count": 11,
   "metadata": {},
   "outputs": [
    {
     "name": "stdout",
     "output_type": "stream",
     "text": [
      "Mean of cluster 1:  (2.0, 5.5)\n",
      "Mean of cluster 2:  (8.75, 5.75)\n"
     ]
    }
   ],
   "source": [
    "mean_of_one = (((b[0] + c[0])/2), ((b[1] + c[1])/2))\n",
    "mean_of_two = (((a[0] + d[0] + e[0] + f[0])/4), ((a[1] + d[1] + e[1] + f[1])/4))\n",
    "\n",
    "print(\"Mean of cluster 1: \", mean_of_one)\n",
    "print(\"Mean of cluster 2: \", mean_of_two)"
   ]
  },
  {
   "cell_type": "code",
   "execution_count": 12,
   "metadata": {},
   "outputs": [
    {
     "name": "stdout",
     "output_type": "stream",
     "text": [
      "Distance from a to first cluster mean: 8.73212459828649\n",
      "Distance from a to second cluster mean: 3.952847075210474\n",
      "Distance from b to first cluster mean: 3.640054944640259\n",
      "Distance from b to second cluster mean: 8.403868156985805\n",
      "Distance from c to first cluster mean: 3.640054944640259\n",
      "Distance from c to second cluster mean: 6.864765108872991\n",
      "Distance from d to first cluster mean: 8.381527307120106\n",
      "Distance from d to second cluster mean: 3.020761493398643\n",
      "Distance from e to first cluster mean: 10.111874208078342\n",
      "Distance from e to second cluster mean: 3.69120576505835\n",
      "Distance from f to first cluster mean: 8.558621384311845\n",
      "Distance from f to second cluster mean: 10.056092680559383\n"
     ]
    }
   ],
   "source": [
    "print('Distance from a to first cluster mean: {}'.format(sp.spatial.distance.euclidean(mean_of_one, a)))\n",
    "print('Distance from a to second cluster mean: {}'.format(sp.spatial.distance.euclidean(mean_of_two, a)))\n",
    "\n",
    "print('Distance from b to first cluster mean: {}'.format(sp.spatial.distance.euclidean(mean_of_one, b)))\n",
    "print('Distance from b to second cluster mean: {}'.format(sp.spatial.distance.euclidean(mean_of_two, b)))\n",
    "\n",
    "print('Distance from c to first cluster mean: {}'.format(sp.spatial.distance.euclidean(mean_of_one, c)))\n",
    "print('Distance from c to second cluster mean: {}'.format(sp.spatial.distance.euclidean(mean_of_two, c)))\n",
    "\n",
    "print('Distance from d to first cluster mean: {}'.format(sp.spatial.distance.euclidean(mean_of_one, d)))\n",
    "print('Distance from d to second cluster mean: {}'.format(sp.spatial.distance.euclidean(mean_of_two, d)))\n",
    "\n",
    "print('Distance from e to first cluster mean: {}'.format(sp.spatial.distance.euclidean(mean_of_one, e)))\n",
    "print('Distance from e to second cluster mean: {}'.format(sp.spatial.distance.euclidean(mean_of_two, e)))\n",
    "\n",
    "print('Distance from f to first cluster mean: {}'.format(sp.spatial.distance.euclidean(mean_of_one, f)))\n",
    "print('Distance from f to second cluster mean: {}'.format(sp.spatial.distance.euclidean(mean_of_two, f)))"
   ]
  },
  {
   "cell_type": "markdown",
   "metadata": {},
   "source": [
    "Based on this, all other values remain the same except for f. The new clusters are b, c, f and a, d, e. Repeat the checks."
   ]
  },
  {
   "cell_type": "code",
   "execution_count": 13,
   "metadata": {},
   "outputs": [
    {
     "name": "stdout",
     "output_type": "stream",
     "text": [
      "Mean of cluster 1:  (2.3333333333333335, 8.333333333333334)\n",
      "Mean of cluster 2:  (10.666666666666666, 3.0)\n"
     ]
    }
   ],
   "source": [
    "mean_of_one = (((b[0] + c[0] + f[0])/3), ((b[1] + c[1] + f[1])/3))\n",
    "mean_of_two = (((a[0] + d[0] + e[0])/3), ((a[1] + d[1] + e[1])/3))\n",
    "\n",
    "print(\"Mean of cluster 1: \", mean_of_one)\n",
    "print(\"Mean of cluster 2: \", mean_of_two)"
   ]
  },
  {
   "cell_type": "code",
   "execution_count": 14,
   "metadata": {},
   "outputs": [
    {
     "name": "stdout",
     "output_type": "stream",
     "text": [
      "Distance from a to first cluster mean: 9.944289260117532\n",
      "Distance from a to second cluster mean: 1.2018504251546627\n",
      "Distance from b to first cluster mean: 1.4907119849998596\n",
      "Distance from b to second cluster mean: 11.377365443917341\n",
      "Distance from c to first cluster mean: 6.3683243915142675\n",
      "Distance from c to second cluster mean: 7.731609003162134\n",
      "Distance from d to first cluster mean: 9.3392838174146\n",
      "Distance from d to second cluster mean: 0.6666666666666661\n",
      "Distance from e to first cluster mean: 10.593499054713803\n",
      "Distance from e to second cluster mean: 1.6666666666666672\n",
      "Distance from f to first cluster mean: 5.70574758954123\n",
      "Distance from f to second cluster mean: 13.408123574079177\n"
     ]
    }
   ],
   "source": [
    "print('Distance from a to first cluster mean: {}'.format(sp.spatial.distance.euclidean(mean_of_one, a)))\n",
    "print('Distance from a to second cluster mean: {}'.format(sp.spatial.distance.euclidean(mean_of_two, a)))\n",
    "\n",
    "print('Distance from b to first cluster mean: {}'.format(sp.spatial.distance.euclidean(mean_of_one, b)))\n",
    "print('Distance from b to second cluster mean: {}'.format(sp.spatial.distance.euclidean(mean_of_two, b)))\n",
    "\n",
    "print('Distance from c to first cluster mean: {}'.format(sp.spatial.distance.euclidean(mean_of_one, c)))\n",
    "print('Distance from c to second cluster mean: {}'.format(sp.spatial.distance.euclidean(mean_of_two, c)))\n",
    "\n",
    "print('Distance from d to first cluster mean: {}'.format(sp.spatial.distance.euclidean(mean_of_one, d)))\n",
    "print('Distance from d to second cluster mean: {}'.format(sp.spatial.distance.euclidean(mean_of_two, d)))\n",
    "\n",
    "print('Distance from e to first cluster mean: {}'.format(sp.spatial.distance.euclidean(mean_of_one, e)))\n",
    "print('Distance from e to second cluster mean: {}'.format(sp.spatial.distance.euclidean(mean_of_two, e)))\n",
    "\n",
    "print('Distance from f to first cluster mean: {}'.format(sp.spatial.distance.euclidean(mean_of_one, f)))\n",
    "print('Distance from f to second cluster mean: {}'.format(sp.spatial.distance.euclidean(mean_of_two, f)))"
   ]
  },
  {
   "cell_type": "markdown",
   "metadata": {},
   "source": [
    "Now we notice that all points are in the correct places. The mean closest to them is the mean of the cluster into which they belong. "
   ]
  },
  {
   "cell_type": "code",
   "execution_count": 15,
   "metadata": {},
   "outputs": [
    {
     "data": {
      "image/png": "[encoded data removed]",
      "text/plain": [
       "<Figure size 432x288 with 1 Axes>"
      ]
     },
     "metadata": {},
     "output_type": "display_data"
    }
   ],
   "source": [
    "x, y=np.array([a, b, c, d, e, f]).T\n",
    "plt.axis([0, 15, 0, 15])\n",
    "plt.scatter(x, y)\n",
    "z, w =np.array([mean_of_one, mean_of_two]).T\n",
    "plt.scatter(z, w)\n",
    "plt.show()"
   ]
  }
 ],
 "metadata": {
  "kernelspec": {
   "display_name": "Python 3",
   "language": "python",
   "name": "python3"
  },
  "language_info": {
   "codemirror_mode": {
    "name": "ipython",
    "version": 3
   },
   "file_extension": ".py",
   "mimetype": "text/x-python",
   "name": "python",
   "nbconvert_exporter": "python",
   "pygments_lexer": "ipython3",
   "version": "3.6.4"
  }
 },
 "nbformat": 4,
 "nbformat_minor": 2
}
